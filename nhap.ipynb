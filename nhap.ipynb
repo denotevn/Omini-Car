{
 "cells": [
  {
   "cell_type": "code",
   "execution_count": 1,
   "metadata": {},
   "outputs": [
    {
     "name": "stdout",
     "output_type": "stream",
     "text": [
      "1\n"
     ]
    }
   ],
   "source": [
    "import rospy\n",
    "import queue\n",
    "from nav_msgs.msg import OccupancyGrid\n",
    "from sensor_msgs.msg import Range\n",
    "\n",
    "class Node:\n",
    "    def __init__(self, x, y, cost):\n",
    "        self.x = x\n",
    "        self.y = y\n",
    "        self.cost = cost\n",
    "\n",
    "def get_neighbors(grid, x, y):\n",
    "    neighbors = []\n",
    "    if x > 0:\n",
    "        neighbors.append(Node(x - 1, y, grid[x - 1][y]))\n",
    "    if x < grid.shape[0] - 1:\n",
    "        neighbors.append(Node(x + 1, y, grid[x + 1][y]))\n",
    "    if y > 0:\n",
    "        neighbors.append(Node(x, y - 1, grid[x][y - 1]))\n",
    "    if y < grid.shape[1] - 1:\n",
    "        neighbors.append(Node(x, y + 1, grid[x][y + 1]))\n",
    "    return neighbors\n",
    "\n",
    "def bfs(grid, start):\n",
    "    queue = queue.Queue()\n",
    "    queue.put((start, 0))\n",
    "    came_from = dict()\n",
    "    cost_so_far = dict()\n",
    "    came_from[start] = None\n",
    "    cost_so_far[start] = 0\n",
    "    while not queue.empty():\n",
    "        current = queue.get()\n",
    "        for neighbor in get_neighbors(grid, current[0].x, current[0].y):\n",
    "            new_cost = current[1] + neighbor.cost\n",
    "            if neighbor.x not in cost_so_far or new_cost < cost_so_far[neighbor.x]:\n",
    "                cost_so_far[neighbor.x] = new_cost\n",
    "                priority = new_cost\n",
    "                if neighbor.x not in queue.queue:\n",
    "                    queue.put((neighbor, priority))\n",
    "                came_from[neighbor.x] = current[0]\n",
    "    return came_from\n",
    "\n",
    "def sonar_callback(msg, sonar_name):\n",
    "    global grid\n",
    "    if msg.range > 0.01 and msg.range < 0.9:\n",
    "        x = int((sonar_name[5] - ord('0')) * 2)\n",
    "        y = int(msg.range / 0.05)\n",
    "        if x < grid.shape[0] and y < grid.shape[1]:\n",
    "            grid[x][y] = 100\n",
    "\n",
    "def camera_callback(msg):\n",
    "    global grid\n",
    "    for i in range(msg.height):\n",
    "        for j in range(msg.width):\n",
    "            if msg.data[i * msg.width + j] == 128:\n",
    "                x = int((j - msg.height / 2) / 2)\n",
    "                y = int((i - msg.width / 2) / 2)\n",
    "                if x < grid.shape[0] and y < grid.shape[1]:\n",
    "                    grid[x][y] = -1\n",
    "\n",
    "def main():\n",
    "    global grid\n",
    "    rospy.init_node('bfs_navigation')\n",
    "    rospy.Subscriber('/range/front', Range, sonar_callback, 'front')\n",
    "    rospy.Subscriber('/range/left', Range, sonar_callback, 'left')\n",
    "    rospy.Subscriber('/range/rear', Range, sonar_callback, 'rear')\n",
    "    rospy.Subscriber('/range/right', Range, sonar_callback, 'right')\n",
    "    rospy.Subscriber('/two_wheels_robot/camera1/image_raw', sensor_msgs.Image, camera_callback)\n",
    "    grid = [[0 for x in range(100)] for y in range(100)]\n",
    "    came_from = bfs(grid, Node(0, 0, 0))\n",
    "    while not rospy.is_shutdown():\n",
    "        for x in range(100):\n",
    "            for y in range(100):\n",
    "                if grid[x][y] == 100:\n",
    "                    rospy.loginfo(\"Obstacle detected at (%d, %d)\" % (x, y))\n",
    "                elif grid[x][y]"
   ]
  },
  {
   "cell_type": "code",
   "execution_count": 2,
   "metadata": {},
   "outputs": [
    {
     "name": "stdout",
     "output_type": "stream",
     "text": [
      "a: 1, b:2, c:3\n"
     ]
    },
    {
     "data": {
      "text/plain": [
       "1"
      ]
     },
     "execution_count": 2,
     "metadata": {},
     "output_type": "execute_result"
    }
   ],
   "source": [
    "import numpy as np\n",
    "a,b,c = np.array([1, 2, 3])\n",
    "print(f\"a: {a}, b:{b}, c:{c}\")\n",
    "a"
   ]
  },
  {
   "cell_type": "code",
   "execution_count": 6,
   "metadata": {},
   "outputs": [
    {
     "data": {
      "text/plain": [
       "True"
      ]
     },
     "execution_count": 6,
     "metadata": {},
     "output_type": "execute_result"
    }
   ],
   "source": [
    "\n",
    "dic = {\"a\":1, \"b\": True}\n",
    "isred = dic[\"b\"]\n",
    "isred"
   ]
  },
  {
   "cell_type": "code",
   "execution_count": null,
   "metadata": {},
   "outputs": [],
   "source": []
  }
 ],
 "metadata": {
  "kernelspec": {
   "display_name": "Python 3",
   "language": "python",
   "name": "python3"
  },
  "language_info": {
   "codemirror_mode": {
    "name": "ipython",
    "version": 3
   },
   "file_extension": ".py",
   "mimetype": "text/x-python",
   "name": "python",
   "nbconvert_exporter": "python",
   "pygments_lexer": "ipython3",
   "version": "3.10.12"
  }
 },
 "nbformat": 4,
 "nbformat_minor": 2
}
